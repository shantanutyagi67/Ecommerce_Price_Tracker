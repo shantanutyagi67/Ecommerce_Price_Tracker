{
 "cells": [
  {
   "cell_type": "code",
   "execution_count": 43,
   "metadata": {},
   "outputs": [
    {
     "name": "stdout",
     "output_type": "stream",
     "text": [
      "LS2872 Analog Watch - For Men\n",
      "₹331\n"
     ]
    }
   ],
   "source": [
    "# import webdriver\n",
    "from selenium import webdriver\n",
    "from selenium.common.exceptions import NoSuchElementException\n",
    "\n",
    "# create webdriver object\n",
    "driver = webdriver.Chrome()\n",
    "# simple amazon product\n",
    "URL1 = \"https://www.amazon.in/Panasonic-Semi-Automatic-Loading-NA-W65E5ARB-Powerful/dp/B08B98715P/ref=sr_1_1_sspa?dchild=1&pf_rd_p=e1c750d4-7706-48f0-9887-b3d38e5e5ff6&pf_rd_r=58JQQHR87VBC2XE7Z7QB&qid=1609760787&refinements=p_85%3A10440599031&rps=1&s=kitchen&sr=1-1-spons&psc=1&spLa=ZW5jcnlwdGVkUXVhbGlmaWVyPUExTkZCMFNENENVRDE1JmVuY3J5cHRlZElkPUEwNTU1MDczMlNLRUIwSUxBWU1JRyZlbmNyeXB0ZWRBZElkPUEwMDIyNzE1MVgxQkdNODRJOTBLUiZ3aWRnZXROYW1lPXNwX2F0Zl9icm93c2UmYWN0aW9uPWNsaWNrUmVkaXJlY3QmZG9Ob3RMb2dDbGljaz10cnVl\"\n",
    "# deal of day amazon product\n",
    "URL2 = \"https://www.amazon.in/Vivo-Mystic-Storage-Additional-Exchange/dp/B08444XXKV/ref=br_msw_pdt-2/259-6743672-9259515?_encoding=UTF8&smid=A14CZOWI0VEHLG&pf_rd_m=A1VBAL9TL5WCBF&pf_rd_s=&pf_rd_r=0V2E13PXAK3Z9H1JDJZ5&pf_rd_t=36701&pf_rd_p=5c669f94-aee5-4b22-81f8-1d301ca2c6a3&pf_rd_i=desktop\"\n",
    "# flipkart trending product (has extra classes)\n",
    "URL3 = \"https://www.flipkart.com/poco-m2-brick-red-64-gb/p/itmcffd4eceea723?pid=MOBFV9V9H3BBYAKQ&lid=LSTMOBFV9V9H3BBYAKQVJPBOI&marketplace=FLIPKART&srno=b_1_1&otracker=hp_bannerads_1_3.bannerAdCard.BANNERADS_HPW_Poco%2BM2_Q3H728G7AE8K&fm=organic&iid=79f4ebf4-dd10-4f85-8c86-eb394e445ab3.MOBFV9V9H3BBYAKQ.SEARCH&ppt=browse&ppn=browse&ssid=3id3vm8egw0000001609763448585\"\n",
    "# flipkart normal product 1 (no product company)\n",
    "URL4 = \"https://www.flipkart.com/alpino-neckband-730-bluetooth-headset/p/itmc5c5f6390ef28?pid=ACCFGRT3PZMH9PRY&lid=LSTACCFGRT3PZMH9PRYE895MT&marketplace=FLIPKART&fm=gamificationAndPersonalisation%2FrecentlyViewed&iid=GAP_RECENTLY_VIEWED_DESKTOP_HORIZONTAL_9a15884e-795d-436d-a664-5e54f499d08a.ACCFGRT3PZMH9PRY&ppt=pp&ppn=pp&ssid=3id3vm8egw0000001609763448585&otracker=pp_recently_viewed_Recently%2BViewed_2_36.productCard.RECENTLY_VIEWED_Alpino%2BNeckband%2B730%2BBluetooth%2BHeadset_ACCFGRT3PZMH9PRY_gamificationAndPersonalisation%2FrecentlyViewed_1&otracker1=pp_recently_viewed_PINNED_gamificationAndPersonalisation%2FrecentlyViewed_Recently%2BViewed_DESKTOP_HORIZONTAL_productCard_cc_2_NA_view-all&cid=ACCFGRT3PZMH9PRY\"\n",
    "# flipkart normal product 2 (extra class for product company)\n",
    "URL5 = \"https://www.flipkart.com/limestone-ls2872-analog-watch-men/p/itmde465d344921c?pid=WATFNENFKTAPUFSC&lid=LSTWATFNENFKTAPUFSC8SXIUV&marketplace=FLIPKART&fm=gamificationAndPersonalisation%2FrecentlyViewed&iid=GAP_RECENTLY_VIEWED_DESKTOP_HORIZONTAL_9a15884e-795d-436d-a664-5e54f499d08a.WATFNENFKTAPUFSC&ppt=pp&ppn=pp&ssid=3id3vm8egw0000001609763448585&otracker=pp_recently_viewed_Recently%2BViewed_3_36.productCard.RECENTLY_VIEWED_LimeStone%2BLS2872%2BAnalog%2BWatch%2B%2B-%2BFor%2BMen_WATFNENFKTAPUFSC_gamificationAndPersonalisation%2FrecentlyViewed_2&otracker1=pp_recently_viewed_PINNED_gamificationAndPersonalisation%2FrecentlyViewed_Recently%2BViewed_DESKTOP_HORIZONTAL_productCard_cc_3_NA_view-all&cid=WATFNENFKTAPUFSC\"\n",
    "\n",
    "URL = URL5\n",
    "driver.get(URL)\n",
    "\n",
    "# get element\n",
    "if URL[12:20] == \"flipkart\":\n",
    "    # fixed class name for product name\n",
    "    element = driver.find_element_by_class_name(\"B_NuCI\").text\n",
    "    print(element)\n",
    "    # fixed class name for product price\n",
    "    element = driver.find_element_by_class_name(\"_16Jk6d\").text\n",
    "    print(element)\n",
    "    \n",
    "elif URL[12:18] == \"amazon\":\n",
    "    # distinguish b/w deal of day and normal product\n",
    "    dayDeal = True\n",
    "    try:\n",
    "        # fixed class name if deal of day product\n",
    "        element = driver.find_element_by_id(\"priceblock_dealprice_lbl\").text\n",
    "        #print(element)\n",
    "    except NoSuchElementException as exception:\n",
    "        # class does not exist means not deal of day product\n",
    "        dayDeal = False\n",
    "    # fixed class name for product name irrespective of deal of day or normal product\n",
    "    element = driver.find_element_by_id(\"productTitle\").text\n",
    "    print(element)\n",
    "    if dayDeal:\n",
    "        # if deal of day product then use corresponding id\n",
    "        element = driver.find_element_by_id(\"priceblock_dealprice\").text\n",
    "        print(element)\n",
    "    else:\n",
    "        # if normal product then use corresponding id\n",
    "        element = driver.find_element_by_id(\"priceblock_ourprice\").text\n",
    "        print(element)\n",
    "        \n",
    "elif URL[12:16] == \"ebay\":\n",
    "    # ebay is a broken site ples dont use ebay for christ's sake\n",
    "    element = driver.find_element_by_class_name(\"B_NuCI\").text\n",
    "    print(element)\n",
    "    element = driver.find_element_by_class_name(\"_16Jk6d\").text\n",
    "    print(element)"
   ]
  },
  {
   "cell_type": "code",
   "execution_count": null,
   "metadata": {},
   "outputs": [],
   "source": []
  }
 ],
 "metadata": {
  "kernelspec": {
   "display_name": "Python 3",
   "language": "python",
   "name": "python3"
  },
  "language_info": {
   "codemirror_mode": {
    "name": "ipython",
    "version": 3
   },
   "file_extension": ".py",
   "mimetype": "text/x-python",
   "name": "python",
   "nbconvert_exporter": "python",
   "pygments_lexer": "ipython3",
   "version": "3.8.5"
  }
 },
 "nbformat": 4,
 "nbformat_minor": 4
}
