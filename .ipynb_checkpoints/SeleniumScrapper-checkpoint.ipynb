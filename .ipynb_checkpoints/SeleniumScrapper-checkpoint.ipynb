{
 "cells": [
  {
   "cell_type": "code",
   "execution_count": 89,
   "metadata": {},
   "outputs": [
    {
     "name": "stdout",
     "output_type": "stream",
     "text": [
      "Gillette Sensitive Skin Shave Foam  (418 g)\n",
      "₹179\n"
     ]
    },
    {
     "data": {
      "image/png": "[encoded data removed]",
      "text/plain": [
       "<IPython.core.display.Image object>"
      ]
     },
     "metadata": {},
     "output_type": "display_data"
    }
   ],
   "source": [
    "# import webdriver\n",
    "import urllib\n",
    "from IPython.display import Image, display\n",
    "from selenium import webdriver\n",
    "from selenium.common.exceptions import NoSuchElementException\n",
    "\n",
    "# create webdriver object\n",
    "driver = webdriver.Chrome()\n",
    "# simple amazon product\n",
    "URL1 = \"https://www.amazon.in/Panasonic-Semi-Automatic-Loading-NA-W65E5ARB-Powerful/dp/B08B98715P/ref=sr_1_1_sspa?dchild=1&pf_rd_p=e1c750d4-7706-48f0-9887-b3d38e5e5ff6&pf_rd_r=58JQQHR87VBC2XE7Z7QB&qid=1609760787&refinements=p_85%3A10440599031&rps=1&s=kitchen&sr=1-1-spons&psc=1&spLa=ZW5jcnlwdGVkUXVhbGlmaWVyPUExTkZCMFNENENVRDE1JmVuY3J5cHRlZElkPUEwNTU1MDczMlNLRUIwSUxBWU1JRyZlbmNyeXB0ZWRBZElkPUEwMDIyNzE1MVgxQkdNODRJOTBLUiZ3aWRnZXROYW1lPXNwX2F0Zl9icm93c2UmYWN0aW9uPWNsaWNrUmVkaXJlY3QmZG9Ob3RMb2dDbGljaz10cnVl\"\n",
    "# deal of day amazon product\n",
    "URL2 = \"https://www.amazon.in/Vivo-Mystic-Storage-Additional-Exchange/dp/B08444XXKV/ref=br_msw_pdt-2/259-6743672-9259515?_encoding=UTF8&smid=A14CZOWI0VEHLG&pf_rd_m=A1VBAL9TL5WCBF&pf_rd_s=&pf_rd_r=0V2E13PXAK3Z9H1JDJZ5&pf_rd_t=36701&pf_rd_p=5c669f94-aee5-4b22-81f8-1d301ca2c6a3&pf_rd_i=desktop\"\n",
    "# flipkart trending product (has extra classes)\n",
    "URL3 = \"https://www.flipkart.com/poco-m2-brick-red-64-gb/p/itmcffd4eceea723?pid=MOBFV9V9H3BBYAKQ&lid=LSTMOBFV9V9H3BBYAKQVJPBOI&marketplace=FLIPKART&srno=b_1_1&otracker=hp_bannerads_1_3.bannerAdCard.BANNERADS_HPW_Poco%2BM2_Q3H728G7AE8K&fm=organic&iid=79f4ebf4-dd10-4f85-8c86-eb394e445ab3.MOBFV9V9H3BBYAKQ.SEARCH&ppt=browse&ppn=browse&ssid=3id3vm8egw0000001609763448585\"\n",
    "# flipkart normal product 1 (no product company)\n",
    "URL4 = \"https://www.flipkart.com/gillette-sensitive-skin-shave-foam/p/itmeyfs6zhsgpycv?pid=SHFD947CJF9YDV7G&lid=LSTSHFD947CJF9YDV7GUG0DOW&marketplace=FLIPKART&srno=b_1_3&otracker=pp_reco_You%2Bmight%2Bbe%2Binterested%2Bin_3_32.dealCard.OMU_cid%3AS_F_N_g9b_tiz_k6k__d_10-100__NONE_ALL%3Bnid%3Ag9b_tiz_k6k_%3Bet%3AS%3Beid%3Ag9b_tiz_k6k_%3Bmp%3AF%3Bct%3Ad%3B&otracker1=pp_reco_PINNED_productRecommendation%2FAugmentSelling_You%2Bmight%2Bbe%2Binterested%2Bin_BANNER_HORIZONTAL_dealCard_cc_3_NA_view-all&fm=productRecommendation%2Fsimilar&iid=ea391cd8-f676-42bc-ae68-3242192a8ba5.SHFD947CJF9YDV7G.SEARCH&ppt=browse&ppn=browse&ssid=fe4bj3tpow0000001609775229371\"\n",
    "# flipkart normal product 2 (extra class for product company)\n",
    "URL5 = \"https://www.flipkart.com/fogg-1170-bl-br-unique-new-day-date-analog-watch-men/p/itmfdwp9jgz4gzzu?pid=WATFDWHG9KUWEZFY&lid=LSTWATFDWHG9KUWEZFYIADWCJ&marketplace=FLIPKART&fm=productRecommendation%2Fsimilar&iid=R%3As%3Bp%3AWATFNENEHF4UMCZZ%3Bl%3ALSTWATFNENEHF4UMCZZE0UMMU%3Bpt%3App%3Buid%3A314b66af-4ea4-11eb-8f79-5b4656f3dce0%3B.WATFDWHG9KUWEZFY&ppt=pp&ppn=pp&ssid=3id3vm8egw0000001609763448585&otracker=pp_reco_Similar%2BProducts_5_32.productCard.PMU_HORIZONTAL_Fogg%2B1170-BL-BR%2BUnique%2BNew%2BDay%2B%2526%2BDate%2BAnalog%2BWatch%2B%2B-%2BFor%2BMen_WATFDWHG9KUWEZFY_productRecommendation%2Fsimilar_4&otracker1=pp_reco_PINNED_productRecommendation%2Fsimilar_Similar%2BProducts_GRID_productCard_cc_5_NA_view-all&cid=WATFDWHG9KUWEZFY\"\n",
    "\n",
    "URL = URL4\n",
    "driver.get(URL)\n",
    "email=\"shantanutyagi67@gmail.com\"\n",
    "name = \"\"\n",
    "price = -1.0\n",
    "\n",
    "# get element\n",
    "if URL[12:20] == \"flipkart\":\n",
    "    # fixed class name for product name\n",
    "    element = driver.find_element_by_class_name(\"B_NuCI\").text\n",
    "    name = element\n",
    "    print(name)\n",
    "    # fixed class name for product price\n",
    "    element = driver.find_element_by_class_name(\"_16Jk6d\").text\n",
    "    price = element\n",
    "    print(price)\n",
    "    \n",
    "    companyName = True\n",
    "    try:\n",
    "        # fixed class name if company name given\n",
    "        element = driver.find_element_by_class_name(\"G6XhRU\").text\n",
    "        #print(element)\n",
    "    except NoSuchElementException as exception:\n",
    "        # class does not exist means no company name given\n",
    "        companyName = False\n",
    "        \n",
    "    # product image\n",
    "    if companyName:\n",
    "        element = driver.find_element_by_class_name(\"_3kidJX\").find_element_by_xpath(\".//div[2]/div/img\")\n",
    "    else:\n",
    "        element = driver.find_element_by_class_name(\"_3kidJX\").find_element_by_xpath(\".//div[2]/img\")\n",
    "    src = element.get_attribute('src')\n",
    "    #print(src)\n",
    "    urllib.request.urlretrieve(src, \"images\\prodImg.png\")\n",
    "    display(Image(filename='images\\prodImg.png')) \n",
    "    \n",
    "elif URL[12:18] == \"amazon\":\n",
    "    # distinguish b/w deal of day and normal product\n",
    "    dayDeal = True\n",
    "    try:\n",
    "        # fixed class name if deal of day product\n",
    "        element = driver.find_element_by_id(\"priceblock_dealprice_lbl\").text\n",
    "        #print(element)\n",
    "    except NoSuchElementException as exception:\n",
    "        # class does not exist means not deal of day product\n",
    "        dayDeal = False\n",
    "    # fixed class name for product name irrespective of deal of day or normal product\n",
    "    element = driver.find_element_by_id(\"productTitle\").text\n",
    "    name = element\n",
    "    print(name)\n",
    "    if dayDeal:\n",
    "        # if deal of day product then use corresponding id\n",
    "        element = driver.find_element_by_id(\"priceblock_dealprice\").text\n",
    "        price = element\n",
    "        print(price)\n",
    "    else:\n",
    "        # if normal product then use corresponding id\n",
    "        element = driver.find_element_by_id(\"priceblock_ourprice\").text\n",
    "        price = element\n",
    "        print(price)\n",
    "    # product image\n",
    "    element = driver.find_element_by_id(\"landingImage\")\n",
    "    src = element.get_attribute('src')\n",
    "    #print(src)\n",
    "    urllib.request.urlretrieve(src, \"images\\prodImg.png\")\n",
    "    display(Image(filename='images\\prodImg.png')) \n",
    "    \n",
    "elif URL[12:16] == \"ebay\":\n",
    "    # ebay is a broken site ples dont use ebay for christ's sake\n",
    "    element = driver.find_element_by_class_name(\"B_NuCI\").text\n",
    "    print(element)\n",
    "    element = driver.find_element_by_class_name(\"_16Jk6d\").text\n",
    "    print(element)"
   ]
  },
  {
   "cell_type": "code",
   "execution_count": null,
   "metadata": {},
   "outputs": [],
   "source": []
  }
 ],
 "metadata": {
  "kernelspec": {
   "display_name": "Python 3",
   "language": "python",
   "name": "python3"
  },
  "language_info": {
   "codemirror_mode": {
    "name": "ipython",
    "version": 3
   },
   "file_extension": ".py",
   "mimetype": "text/x-python",
   "name": "python",
   "nbconvert_exporter": "python",
   "pygments_lexer": "ipython3",
   "version": "3.8.5"
  }
 },
 "nbformat": 4,
 "nbformat_minor": 4
}
